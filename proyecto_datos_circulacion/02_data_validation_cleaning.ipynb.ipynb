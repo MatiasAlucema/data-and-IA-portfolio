{
 "cells": [
  {
   "cell_type": "markdown",
   "id": "b455df53-942a-4a8c-8902-76d2836f414c",
   "metadata": {},
   "source": [
    "### Proyecto de Gobernanza y Calidad de Datos: Análisis de Permisos de Circulación\n",
    "\n",
    "Este notebook documenta el proceso de validación, limpieza y estandarización de un dataset sintético de permisos de circulación. El objetivo es transformar datos brutos e inconsistentes en un dataset confiable, listo para su análisis o modelado predictivo.\n"
   ]
  },
  {
   "cell_type": "code",
   "execution_count": null,
   "id": "6a78fd27-7e6e-497f-9ea9-d5aa6c82f9e5",
   "metadata": {},
   "outputs": [],
   "source": [
    "import pandas as pd\n",
    "import numpy as np\n",
    "\n",
    "# Cargar el dataset generado en el paso anterior\n",
    "df = pd.read_csv('data/raw/permisos_circulacion_bruto.csv')\n",
    "\n",
    "# Inspección inicial del dataset\n",
    "print(\"--- Información inicial del DataFrame ---\")\n",
    "df.info()\n",
    "print(\"\\n--- Primeras 5 filas ---\")\n",
    "print(df.head())\n",
    "print(\"\\n--- Estadísticas descriptivas de columnas numéricas ---\")\n",
    "print(df.describe())"
   ]
  },
  {
   "cell_type": "markdown",
   "id": "3da5e73e-1daa-4a89-90b7-702580d66a32",
   "metadata": {},
   "source": [
    "### 1. Validación y Detección de Inconsistencias\n",
    "\n",
    "Antes de limpiar, es crucial identificar los problemas de calidad de los datos."
   ]
  },
  {
   "cell_type": "code",
   "execution_count": null,
   "id": "bf158466-73d3-455c-9bb5-dcf4118ea505",
   "metadata": {},
   "outputs": [],
   "source": [
    "# Contar valores faltantes por columna\n",
    "print(\"--- Valores faltantes por columna ---\")\n",
    "print(df.isnull().sum())\n",
    "\n",
    "# Identificar duplicados\n",
    "print(\"\\n--- Conteo de filas duplicadas ---\")\n",
    "print(f\"Filas duplicadas: {df.duplicated().sum()}\")\n",
    "\n",
    "# Validar la columna 'duracion_dias' (valores negativos o nulos)\n",
    "print(\"\\n--- Valores no válidos en 'duracion_dias' ---\")\n",
    "invalid_duracion = df[df['duracion_dias'] < 0]\n",
    "print(f\"Registros con duración negativa: {len(invalid_duracion)}\")"
   ]
  },
  {
   "cell_type": "markdown",
   "id": "3f90852a-9312-4467-94eb-48ca6a76fcb9",
   "metadata": {},
   "source": [
    "### 2. Limpieza y Estandarización de Datos\n",
    "\n",
    "Ahora, aplicamos las correcciones necesarias para asegurar la integridad y consistencia."
   ]
  },
  {
   "cell_type": "code",
   "execution_count": null,
   "id": "9142325e-dcba-41f1-98c9-bb8b049cc153",
   "metadata": {},
   "outputs": [],
   "source": [
    "# 1. Manejo de duplicados\n",
    "df.drop_duplicates(inplace=True)\n",
    "print(f\"Registros después de eliminar duplicados: {df.shape[0]}\")\n",
    "\n",
    "# 2. Estandarización de texto en 'tipo_vehiculo'\n",
    "df['tipo_vehiculo'] = df['tipo_vehiculo'].str.strip().str.capitalize()\n",
    "print(\"\\n--- Conteo de valores después de estandarización ---\")\n",
    "print(df['tipo_vehiculo'].value_counts())\n",
    "\n",
    "# 3. Manejo de valores nulos\n",
    "# Para 'duracion_dias', vamos a imputar con la mediana\n",
    "median_duracion = df['duracion_dias'].median()\n",
    "df['duracion_dias'].fillna(median_duracion, inplace=True)\n",
    "\n",
    "# Para 'zona_circulacion', vamos a imputar con el valor más frecuente (moda)\n",
    "most_frequent_zona = df['zona_circulacion'].mode()[0]\n",
    "df['zona_circulacion'].fillna(most_frequent_zona, inplace=True)\n",
    "\n",
    "# 4. Corrección de valores no válidos\n",
    "# Reemplazar valores negativos en 'duracion_dias' por la mediana\n",
    "df.loc[df['duracion_dias'] < 0, 'duracion_dias'] = median_duracion"
   ]
  },
  {
   "cell_type": "markdown",
   "id": "27fd5c88-8dff-4a0c-a35b-8e76f5217004",
   "metadata": {},
   "source": [
    "### 3. Verificación Final y Resumen\n",
    "\n",
    "Finalmente, verificamos que las correcciones hayan sido aplicadas correctamente."
   ]
  },
  {
   "cell_type": "code",
   "execution_count": null,
   "id": "0acab983-390c-4b3a-a81a-c8b4045df148",
   "metadata": {},
   "outputs": [],
   "source": [
    "print(\"--- Información del DataFrame después de la limpieza ---\")\n",
    "df.info()\n",
    "print(\"\\n--- Valores faltantes después de la limpieza ---\")\n",
    "print(df.isnull().sum())\n",
    "print(\"\\n--- Estadísticas descriptivas de 'duracion_dias' limpiada ---\")\n",
    "print(df['duracion_dias'].describe())\n",
    "\n",
    "# Guardar el dataset limpio\n",
    "# Crea el directorio 'data/processed' si no existe\n",
    "import os\n",
    "os.makedirs('data/processed', exist_ok=True)\n",
    "df.to_csv('data/processed/permisos_circulacion_limpio.csv', index=False)\n",
    "print(\"\\nDataset limpio guardado en: data/processed/permisos_circulacion_limpio.csv\")"
   ]
  }
 ],
 "metadata": {
  "kernelspec": {
   "display_name": "Python 3 (ipykernel)",
   "language": "python",
   "name": "python3"
  },
  "language_info": {
   "codemirror_mode": {
    "name": "ipython",
    "version": 3
   },
   "file_extension": ".py",
   "mimetype": "text/x-python",
   "name": "python",
   "nbconvert_exporter": "python",
   "pygments_lexer": "ipython3",
   "version": "3.13.5"
  }
 },
 "nbformat": 4,
 "nbformat_minor": 5
}
